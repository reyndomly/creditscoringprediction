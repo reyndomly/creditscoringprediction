{
  "nbformat": 4,
  "nbformat_minor": 0,
  "metadata": {
    "colab": {
      "provenance": [],
      "authorship_tag": "ABX9TyPyb1mAOcZb79/3U7bhv4t/",
      "include_colab_link": true
    },
    "kernelspec": {
      "name": "python3",
      "display_name": "Python 3"
    },
    "language_info": {
      "name": "python"
    }
  },
  "cells": [
    {
      "cell_type": "markdown",
      "metadata": {
        "id": "view-in-github",
        "colab_type": "text"
      },
      "source": [
        "<a href=\"https://colab.research.google.com/github/reyndomly/creditscoringprediction/blob/main/Credit_Scoring_Prediction.ipynb\" target=\"_parent\"><img src=\"https://colab.research.google.com/assets/colab-badge.svg\" alt=\"Open In Colab\"/></a>"
      ]
    },
    {
      "cell_type": "markdown",
      "source": [
        "## Import Libraries"
      ],
      "metadata": {
        "id": "ZGe5YuwbeiZA"
      }
    },
    {
      "cell_type": "code",
      "execution_count": 28,
      "metadata": {
        "id": "qOfMTjoNeYu_"
      },
      "outputs": [],
      "source": [
        "import pandas as pd\n",
        "import numpy as np\n",
        "\n",
        "from sklearn.model_selection import train_test_split\n",
        "from sklearn.preprocessing import StandardScaler\n",
        "from sklearn.metrics import classification_report, confusion_matrix, accuracy_score\n",
        "from sklearn.linear_model import LogisticRegression"
      ]
    },
    {
      "cell_type": "code",
      "source": [
        "!gdown \"1L8xRIQbddq7tYj3hEp9zeOtCZh-diTuR\""
      ],
      "metadata": {
        "colab": {
          "base_uri": "https://localhost:8080/"
        },
        "id": "XLUUNOHlj66c",
        "outputId": "cf755e52-7471-4187-896c-81ed654236e6"
      },
      "execution_count": 30,
      "outputs": [
        {
          "output_type": "stream",
          "name": "stdout",
          "text": [
            "Downloading...\n",
            "From: https://drive.google.com/uc?id=1L8xRIQbddq7tYj3hEp9zeOtCZh-diTuR\n",
            "To: /content/dataset_creditscoring.xlsx\n",
            "\r  0% 0.00/389k [00:00<?, ?B/s]\r100% 389k/389k [00:00<00:00, 77.8MB/s]\n"
          ]
        }
      ]
    },
    {
      "cell_type": "markdown",
      "source": [
        "# Load Dataset"
      ],
      "metadata": {
        "id": "Zw3KePTbsuRY"
      }
    },
    {
      "cell_type": "code",
      "source": [
        "DATASET_PATH = \"/content/dataset_creditscoring.xlsx\""
      ],
      "metadata": {
        "id": "5ShyBuJ-kJAs"
      },
      "execution_count": 31,
      "outputs": []
    },
    {
      "cell_type": "code",
      "source": [
        "df = pd.read_excel(DATASET_PATH)"
      ],
      "metadata": {
        "id": "ZbZFR7GfkR5z"
      },
      "execution_count": 32,
      "outputs": []
    },
    {
      "cell_type": "code",
      "source": [
        "df.shape"
      ],
      "metadata": {
        "colab": {
          "base_uri": "https://localhost:8080/"
        },
        "id": "X9tOe4xTkYk0",
        "outputId": "4022f9d8-9e6e-4b0e-bf20-7d16f80a7481"
      },
      "execution_count": 33,
      "outputs": [
        {
          "output_type": "execute_result",
          "data": {
            "text/plain": [
              "(3000, 30)"
            ]
          },
          "metadata": {},
          "execution_count": 33
        }
      ]
    },
    {
      "cell_type": "code",
      "source": [
        "df.head()"
      ],
      "metadata": {
        "colab": {
          "base_uri": "https://localhost:8080/",
          "height": 300
        },
        "id": "9cmpPQc0kbbY",
        "outputId": "67154757-d06a-4561-a962-437bf1a11b6e"
      },
      "execution_count": 34,
      "outputs": [
        {
          "output_type": "execute_result",
          "data": {
            "text/plain": [
              "   TARGET    ID  DerogCnt  CollectCnt  BanruptcyInd  InqCnt06  InqTimeLast  \\\n",
              "0     1.0   582       3.0         3.0           0.0       4.0          0.0   \n",
              "1     1.0   662      15.0         9.0           0.0       3.0          1.0   \n",
              "2     1.0   805       0.0         0.0           0.0       1.0          5.0   \n",
              "3     1.0  1175       8.0         5.0           0.0       6.0          1.0   \n",
              "4     1.0  1373       3.0         1.0           0.0       9.0          0.0   \n",
              "\n",
              "   InqFinanceCnt24  TLTimeFirst  TLTimeLast  ...  TL50UtilCnt  TLBalHCPct  \\\n",
              "0              5.0        117.0        27.0  ...          3.0      0.9179   \n",
              "1              3.0         14.0        14.0  ...          1.0      0.8000   \n",
              "2              1.0        354.0         7.0  ...          5.0      0.3552   \n",
              "3             10.0         16.0         4.0  ...          3.0      0.9127   \n",
              "4              8.0        130.0        52.0  ...          1.0      1.2511   \n",
              "\n",
              "   TLSatPct  TLDel3060Cnt24  TLDel90Cnt24  TLDel60CntAll  TLOpenPct  \\\n",
              "0    0.2083             2.0           3.0            7.0     0.2083   \n",
              "1    0.0000             0.0           0.0            0.0     1.0000   \n",
              "2    0.6538             0.0           1.0            1.0     0.7308   \n",
              "3    0.2500             1.0           1.0            1.0     0.7500   \n",
              "4    0.0000             0.0           1.0            4.0     0.1429   \n",
              "\n",
              "   TLBadDerogCnt  TLDel60Cnt24  TLOpen24Pct  \n",
              "0            4.0           4.0       0.0000  \n",
              "1           12.0           0.0       1.0000  \n",
              "2            1.0           1.0       0.5263  \n",
              "3            7.0           1.0       1.3333  \n",
              "4            3.0           1.0       0.0000  \n",
              "\n",
              "[5 rows x 30 columns]"
            ],
            "text/html": [
              "\n",
              "  <div id=\"df-5ad3a393-934c-45bb-807f-bc41d864811c\">\n",
              "    <div class=\"colab-df-container\">\n",
              "      <div>\n",
              "<style scoped>\n",
              "    .dataframe tbody tr th:only-of-type {\n",
              "        vertical-align: middle;\n",
              "    }\n",
              "\n",
              "    .dataframe tbody tr th {\n",
              "        vertical-align: top;\n",
              "    }\n",
              "\n",
              "    .dataframe thead th {\n",
              "        text-align: right;\n",
              "    }\n",
              "</style>\n",
              "<table border=\"1\" class=\"dataframe\">\n",
              "  <thead>\n",
              "    <tr style=\"text-align: right;\">\n",
              "      <th></th>\n",
              "      <th>TARGET</th>\n",
              "      <th>ID</th>\n",
              "      <th>DerogCnt</th>\n",
              "      <th>CollectCnt</th>\n",
              "      <th>BanruptcyInd</th>\n",
              "      <th>InqCnt06</th>\n",
              "      <th>InqTimeLast</th>\n",
              "      <th>InqFinanceCnt24</th>\n",
              "      <th>TLTimeFirst</th>\n",
              "      <th>TLTimeLast</th>\n",
              "      <th>...</th>\n",
              "      <th>TL50UtilCnt</th>\n",
              "      <th>TLBalHCPct</th>\n",
              "      <th>TLSatPct</th>\n",
              "      <th>TLDel3060Cnt24</th>\n",
              "      <th>TLDel90Cnt24</th>\n",
              "      <th>TLDel60CntAll</th>\n",
              "      <th>TLOpenPct</th>\n",
              "      <th>TLBadDerogCnt</th>\n",
              "      <th>TLDel60Cnt24</th>\n",
              "      <th>TLOpen24Pct</th>\n",
              "    </tr>\n",
              "  </thead>\n",
              "  <tbody>\n",
              "    <tr>\n",
              "      <th>0</th>\n",
              "      <td>1.0</td>\n",
              "      <td>582</td>\n",
              "      <td>3.0</td>\n",
              "      <td>3.0</td>\n",
              "      <td>0.0</td>\n",
              "      <td>4.0</td>\n",
              "      <td>0.0</td>\n",
              "      <td>5.0</td>\n",
              "      <td>117.0</td>\n",
              "      <td>27.0</td>\n",
              "      <td>...</td>\n",
              "      <td>3.0</td>\n",
              "      <td>0.9179</td>\n",
              "      <td>0.2083</td>\n",
              "      <td>2.0</td>\n",
              "      <td>3.0</td>\n",
              "      <td>7.0</td>\n",
              "      <td>0.2083</td>\n",
              "      <td>4.0</td>\n",
              "      <td>4.0</td>\n",
              "      <td>0.0000</td>\n",
              "    </tr>\n",
              "    <tr>\n",
              "      <th>1</th>\n",
              "      <td>1.0</td>\n",
              "      <td>662</td>\n",
              "      <td>15.0</td>\n",
              "      <td>9.0</td>\n",
              "      <td>0.0</td>\n",
              "      <td>3.0</td>\n",
              "      <td>1.0</td>\n",
              "      <td>3.0</td>\n",
              "      <td>14.0</td>\n",
              "      <td>14.0</td>\n",
              "      <td>...</td>\n",
              "      <td>1.0</td>\n",
              "      <td>0.8000</td>\n",
              "      <td>0.0000</td>\n",
              "      <td>0.0</td>\n",
              "      <td>0.0</td>\n",
              "      <td>0.0</td>\n",
              "      <td>1.0000</td>\n",
              "      <td>12.0</td>\n",
              "      <td>0.0</td>\n",
              "      <td>1.0000</td>\n",
              "    </tr>\n",
              "    <tr>\n",
              "      <th>2</th>\n",
              "      <td>1.0</td>\n",
              "      <td>805</td>\n",
              "      <td>0.0</td>\n",
              "      <td>0.0</td>\n",
              "      <td>0.0</td>\n",
              "      <td>1.0</td>\n",
              "      <td>5.0</td>\n",
              "      <td>1.0</td>\n",
              "      <td>354.0</td>\n",
              "      <td>7.0</td>\n",
              "      <td>...</td>\n",
              "      <td>5.0</td>\n",
              "      <td>0.3552</td>\n",
              "      <td>0.6538</td>\n",
              "      <td>0.0</td>\n",
              "      <td>1.0</td>\n",
              "      <td>1.0</td>\n",
              "      <td>0.7308</td>\n",
              "      <td>1.0</td>\n",
              "      <td>1.0</td>\n",
              "      <td>0.5263</td>\n",
              "    </tr>\n",
              "    <tr>\n",
              "      <th>3</th>\n",
              "      <td>1.0</td>\n",
              "      <td>1175</td>\n",
              "      <td>8.0</td>\n",
              "      <td>5.0</td>\n",
              "      <td>0.0</td>\n",
              "      <td>6.0</td>\n",
              "      <td>1.0</td>\n",
              "      <td>10.0</td>\n",
              "      <td>16.0</td>\n",
              "      <td>4.0</td>\n",
              "      <td>...</td>\n",
              "      <td>3.0</td>\n",
              "      <td>0.9127</td>\n",
              "      <td>0.2500</td>\n",
              "      <td>1.0</td>\n",
              "      <td>1.0</td>\n",
              "      <td>1.0</td>\n",
              "      <td>0.7500</td>\n",
              "      <td>7.0</td>\n",
              "      <td>1.0</td>\n",
              "      <td>1.3333</td>\n",
              "    </tr>\n",
              "    <tr>\n",
              "      <th>4</th>\n",
              "      <td>1.0</td>\n",
              "      <td>1373</td>\n",
              "      <td>3.0</td>\n",
              "      <td>1.0</td>\n",
              "      <td>0.0</td>\n",
              "      <td>9.0</td>\n",
              "      <td>0.0</td>\n",
              "      <td>8.0</td>\n",
              "      <td>130.0</td>\n",
              "      <td>52.0</td>\n",
              "      <td>...</td>\n",
              "      <td>1.0</td>\n",
              "      <td>1.2511</td>\n",
              "      <td>0.0000</td>\n",
              "      <td>0.0</td>\n",
              "      <td>1.0</td>\n",
              "      <td>4.0</td>\n",
              "      <td>0.1429</td>\n",
              "      <td>3.0</td>\n",
              "      <td>1.0</td>\n",
              "      <td>0.0000</td>\n",
              "    </tr>\n",
              "  </tbody>\n",
              "</table>\n",
              "<p>5 rows × 30 columns</p>\n",
              "</div>\n",
              "      <button class=\"colab-df-convert\" onclick=\"convertToInteractive('df-5ad3a393-934c-45bb-807f-bc41d864811c')\"\n",
              "              title=\"Convert this dataframe to an interactive table.\"\n",
              "              style=\"display:none;\">\n",
              "        \n",
              "  <svg xmlns=\"http://www.w3.org/2000/svg\" height=\"24px\"viewBox=\"0 0 24 24\"\n",
              "       width=\"24px\">\n",
              "    <path d=\"M0 0h24v24H0V0z\" fill=\"none\"/>\n",
              "    <path d=\"M18.56 5.44l.94 2.06.94-2.06 2.06-.94-2.06-.94-.94-2.06-.94 2.06-2.06.94zm-11 1L8.5 8.5l.94-2.06 2.06-.94-2.06-.94L8.5 2.5l-.94 2.06-2.06.94zm10 10l.94 2.06.94-2.06 2.06-.94-2.06-.94-.94-2.06-.94 2.06-2.06.94z\"/><path d=\"M17.41 7.96l-1.37-1.37c-.4-.4-.92-.59-1.43-.59-.52 0-1.04.2-1.43.59L10.3 9.45l-7.72 7.72c-.78.78-.78 2.05 0 2.83L4 21.41c.39.39.9.59 1.41.59.51 0 1.02-.2 1.41-.59l7.78-7.78 2.81-2.81c.8-.78.8-2.07 0-2.86zM5.41 20L4 18.59l7.72-7.72 1.47 1.35L5.41 20z\"/>\n",
              "  </svg>\n",
              "      </button>\n",
              "      \n",
              "  <style>\n",
              "    .colab-df-container {\n",
              "      display:flex;\n",
              "      flex-wrap:wrap;\n",
              "      gap: 12px;\n",
              "    }\n",
              "\n",
              "    .colab-df-convert {\n",
              "      background-color: #E8F0FE;\n",
              "      border: none;\n",
              "      border-radius: 50%;\n",
              "      cursor: pointer;\n",
              "      display: none;\n",
              "      fill: #1967D2;\n",
              "      height: 32px;\n",
              "      padding: 0 0 0 0;\n",
              "      width: 32px;\n",
              "    }\n",
              "\n",
              "    .colab-df-convert:hover {\n",
              "      background-color: #E2EBFA;\n",
              "      box-shadow: 0px 1px 2px rgba(60, 64, 67, 0.3), 0px 1px 3px 1px rgba(60, 64, 67, 0.15);\n",
              "      fill: #174EA6;\n",
              "    }\n",
              "\n",
              "    [theme=dark] .colab-df-convert {\n",
              "      background-color: #3B4455;\n",
              "      fill: #D2E3FC;\n",
              "    }\n",
              "\n",
              "    [theme=dark] .colab-df-convert:hover {\n",
              "      background-color: #434B5C;\n",
              "      box-shadow: 0px 1px 3px 1px rgba(0, 0, 0, 0.15);\n",
              "      filter: drop-shadow(0px 1px 2px rgba(0, 0, 0, 0.3));\n",
              "      fill: #FFFFFF;\n",
              "    }\n",
              "  </style>\n",
              "\n",
              "      <script>\n",
              "        const buttonEl =\n",
              "          document.querySelector('#df-5ad3a393-934c-45bb-807f-bc41d864811c button.colab-df-convert');\n",
              "        buttonEl.style.display =\n",
              "          google.colab.kernel.accessAllowed ? 'block' : 'none';\n",
              "\n",
              "        async function convertToInteractive(key) {\n",
              "          const element = document.querySelector('#df-5ad3a393-934c-45bb-807f-bc41d864811c');\n",
              "          const dataTable =\n",
              "            await google.colab.kernel.invokeFunction('convertToInteractive',\n",
              "                                                     [key], {});\n",
              "          if (!dataTable) return;\n",
              "\n",
              "          const docLinkHtml = 'Like what you see? Visit the ' +\n",
              "            '<a target=\"_blank\" href=https://colab.research.google.com/notebooks/data_table.ipynb>data table notebook</a>'\n",
              "            + ' to learn more about interactive tables.';\n",
              "          element.innerHTML = '';\n",
              "          dataTable['output_type'] = 'display_data';\n",
              "          await google.colab.output.renderOutput(dataTable, element);\n",
              "          const docLink = document.createElement('div');\n",
              "          docLink.innerHTML = docLinkHtml;\n",
              "          element.appendChild(docLink);\n",
              "        }\n",
              "      </script>\n",
              "    </div>\n",
              "  </div>\n",
              "  "
            ]
          },
          "metadata": {},
          "execution_count": 34
        }
      ]
    },
    {
      "cell_type": "markdown",
      "source": [
        "# Short Explanation"
      ],
      "metadata": {
        "id": "cWXE2JSysxq_"
      }
    },
    {
      "cell_type": "code",
      "source": [
        "df.describe().T"
      ],
      "metadata": {
        "colab": {
          "base_uri": "https://localhost:8080/",
          "height": 1000
        },
        "id": "Hi-vd0LXkeB3",
        "outputId": "8887e992-7bd2-4a04-dd4c-75b1af9788ac"
      },
      "execution_count": 35,
      "outputs": [
        {
          "output_type": "execute_result",
          "data": {
            "text/plain": [
              "                  count          mean           std   min         25%  \\\n",
              "TARGET           3000.0      0.166667      0.372740   0.0      0.0000   \n",
              "ID               3000.0  62922.683667  37203.691912  66.0  30376.5000   \n",
              "DerogCnt         3000.0      1.430000      2.731469   0.0      0.0000   \n",
              "CollectCnt       3000.0      0.857000      2.161352   0.0      0.0000   \n",
              "BanruptcyInd     3000.0      0.153333      0.360369   0.0      0.0000   \n",
              "InqCnt06         3000.0      3.108333      3.479171   0.0      1.0000   \n",
              "InqTimeLast      2812.0      3.108108      4.637831   0.0      1.0000   \n",
              "InqFinanceCnt24  3000.0      3.555000      4.477536   0.0      1.0000   \n",
              "TLTimeFirst      3000.0    170.113667     92.813700   6.0    106.0000   \n",
              "TLTimeLast       3000.0     11.873667     16.321412   0.0      4.0000   \n",
              "TLCnt03          3000.0      0.275000      0.582084   0.0      0.0000   \n",
              "TLCnt12          3000.0      1.821333      1.925265   0.0      0.0000   \n",
              "TLCnt24          3000.0      3.882333      3.396714   0.0      1.0000   \n",
              "TLCnt            2997.0      7.879546      5.421595   0.0      4.0000   \n",
              "TLSum            2960.0  20151.095608  19682.086262   0.0   5699.7500   \n",
              "TLMaxSum         2960.0  31205.900676  29092.908099   0.0  10236.0000   \n",
              "TLSatCnt         2996.0     13.511682      8.931769   0.0      6.0000   \n",
              "TLDel60Cnt       3000.0      1.522000      2.809653   0.0      0.0000   \n",
              "TLBadCnt24       3000.0      0.567000      1.324423   0.0      0.0000   \n",
              "TL75UtilCnt      2901.0      3.121682      2.605435   0.0      1.0000   \n",
              "TL50UtilCnt      2901.0      4.077904      3.108076   0.0      2.0000   \n",
              "TLBalHCPct       2959.0      0.648178      0.266486   0.0      0.5011   \n",
              "TLSatPct         2996.0      0.518331      0.234759   0.0      0.3529   \n",
              "TLDel3060Cnt24   3000.0      0.726000      1.163633   0.0      0.0000   \n",
              "TLDel90Cnt24     3000.0      0.814667      1.609508   0.0      0.0000   \n",
              "TLDel60CntAll    3000.0      2.522000      3.407255   0.0      0.0000   \n",
              "TLOpenPct        2997.0      0.496168      0.206722   0.0      0.3448   \n",
              "TLBadDerogCnt    3000.0      1.409000      2.460434   0.0      0.0000   \n",
              "TLDel60Cnt24     3000.0      1.068333      1.806124   0.0      0.0000   \n",
              "TLOpen24Pct      2997.0      0.564219      0.480105   0.0      0.2500   \n",
              "\n",
              "                         50%          75%          max  \n",
              "TARGET               0.00000      0.00000       1.0000  \n",
              "ID               62872.50000  96156.50000  126503.0000  \n",
              "DerogCnt             0.00000      2.00000      51.0000  \n",
              "CollectCnt           0.00000      1.00000      50.0000  \n",
              "BanruptcyInd         0.00000      0.00000       1.0000  \n",
              "InqCnt06             2.00000      4.00000      40.0000  \n",
              "InqTimeLast          1.00000      3.00000      24.0000  \n",
              "InqFinanceCnt24      2.00000      5.00000      48.0000  \n",
              "TLTimeFirst        151.00000    227.00000     933.0000  \n",
              "TLTimeLast           7.00000     13.00000     342.0000  \n",
              "TLCnt03              0.00000      0.00000       7.0000  \n",
              "TLCnt12              1.00000      3.00000      15.0000  \n",
              "TLCnt24              3.00000      6.00000      28.0000  \n",
              "TLCnt                7.00000     11.00000      40.0000  \n",
              "TLSum            15546.50000  28303.25000  210612.0000  \n",
              "TLMaxSum         24188.50000  44756.25000  271036.0000  \n",
              "TLSatCnt            12.00000     19.00000      57.0000  \n",
              "TLDel60Cnt           0.00000      2.00000      38.0000  \n",
              "TLBadCnt24           0.00000      1.00000      16.0000  \n",
              "TL75UtilCnt          3.00000      4.00000      20.0000  \n",
              "TL50UtilCnt          3.00000      6.00000      23.0000  \n",
              "TLBalHCPct           0.69550      0.84065       3.3613  \n",
              "TLSatPct             0.52705      0.68180       1.0000  \n",
              "TLDel3060Cnt24       0.00000      2.00000       8.0000  \n",
              "TLDel90Cnt24         0.00000      1.00000      19.0000  \n",
              "TLDel60CntAll        1.00000      4.00000      45.0000  \n",
              "TLOpenPct            0.50000      0.62500       1.0000  \n",
              "TLBadDerogCnt        0.00000      2.00000      47.0000  \n",
              "TLDel60Cnt24         0.00000      1.00000      20.0000  \n",
              "TLOpen24Pct          0.50000      0.80000       6.0000  "
            ],
            "text/html": [
              "\n",
              "  <div id=\"df-f0c9d2b5-c417-481b-a17d-b9cfb27b1397\">\n",
              "    <div class=\"colab-df-container\">\n",
              "      <div>\n",
              "<style scoped>\n",
              "    .dataframe tbody tr th:only-of-type {\n",
              "        vertical-align: middle;\n",
              "    }\n",
              "\n",
              "    .dataframe tbody tr th {\n",
              "        vertical-align: top;\n",
              "    }\n",
              "\n",
              "    .dataframe thead th {\n",
              "        text-align: right;\n",
              "    }\n",
              "</style>\n",
              "<table border=\"1\" class=\"dataframe\">\n",
              "  <thead>\n",
              "    <tr style=\"text-align: right;\">\n",
              "      <th></th>\n",
              "      <th>count</th>\n",
              "      <th>mean</th>\n",
              "      <th>std</th>\n",
              "      <th>min</th>\n",
              "      <th>25%</th>\n",
              "      <th>50%</th>\n",
              "      <th>75%</th>\n",
              "      <th>max</th>\n",
              "    </tr>\n",
              "  </thead>\n",
              "  <tbody>\n",
              "    <tr>\n",
              "      <th>TARGET</th>\n",
              "      <td>3000.0</td>\n",
              "      <td>0.166667</td>\n",
              "      <td>0.372740</td>\n",
              "      <td>0.0</td>\n",
              "      <td>0.0000</td>\n",
              "      <td>0.00000</td>\n",
              "      <td>0.00000</td>\n",
              "      <td>1.0000</td>\n",
              "    </tr>\n",
              "    <tr>\n",
              "      <th>ID</th>\n",
              "      <td>3000.0</td>\n",
              "      <td>62922.683667</td>\n",
              "      <td>37203.691912</td>\n",
              "      <td>66.0</td>\n",
              "      <td>30376.5000</td>\n",
              "      <td>62872.50000</td>\n",
              "      <td>96156.50000</td>\n",
              "      <td>126503.0000</td>\n",
              "    </tr>\n",
              "    <tr>\n",
              "      <th>DerogCnt</th>\n",
              "      <td>3000.0</td>\n",
              "      <td>1.430000</td>\n",
              "      <td>2.731469</td>\n",
              "      <td>0.0</td>\n",
              "      <td>0.0000</td>\n",
              "      <td>0.00000</td>\n",
              "      <td>2.00000</td>\n",
              "      <td>51.0000</td>\n",
              "    </tr>\n",
              "    <tr>\n",
              "      <th>CollectCnt</th>\n",
              "      <td>3000.0</td>\n",
              "      <td>0.857000</td>\n",
              "      <td>2.161352</td>\n",
              "      <td>0.0</td>\n",
              "      <td>0.0000</td>\n",
              "      <td>0.00000</td>\n",
              "      <td>1.00000</td>\n",
              "      <td>50.0000</td>\n",
              "    </tr>\n",
              "    <tr>\n",
              "      <th>BanruptcyInd</th>\n",
              "      <td>3000.0</td>\n",
              "      <td>0.153333</td>\n",
              "      <td>0.360369</td>\n",
              "      <td>0.0</td>\n",
              "      <td>0.0000</td>\n",
              "      <td>0.00000</td>\n",
              "      <td>0.00000</td>\n",
              "      <td>1.0000</td>\n",
              "    </tr>\n",
              "    <tr>\n",
              "      <th>InqCnt06</th>\n",
              "      <td>3000.0</td>\n",
              "      <td>3.108333</td>\n",
              "      <td>3.479171</td>\n",
              "      <td>0.0</td>\n",
              "      <td>1.0000</td>\n",
              "      <td>2.00000</td>\n",
              "      <td>4.00000</td>\n",
              "      <td>40.0000</td>\n",
              "    </tr>\n",
              "    <tr>\n",
              "      <th>InqTimeLast</th>\n",
              "      <td>2812.0</td>\n",
              "      <td>3.108108</td>\n",
              "      <td>4.637831</td>\n",
              "      <td>0.0</td>\n",
              "      <td>1.0000</td>\n",
              "      <td>1.00000</td>\n",
              "      <td>3.00000</td>\n",
              "      <td>24.0000</td>\n",
              "    </tr>\n",
              "    <tr>\n",
              "      <th>InqFinanceCnt24</th>\n",
              "      <td>3000.0</td>\n",
              "      <td>3.555000</td>\n",
              "      <td>4.477536</td>\n",
              "      <td>0.0</td>\n",
              "      <td>1.0000</td>\n",
              "      <td>2.00000</td>\n",
              "      <td>5.00000</td>\n",
              "      <td>48.0000</td>\n",
              "    </tr>\n",
              "    <tr>\n",
              "      <th>TLTimeFirst</th>\n",
              "      <td>3000.0</td>\n",
              "      <td>170.113667</td>\n",
              "      <td>92.813700</td>\n",
              "      <td>6.0</td>\n",
              "      <td>106.0000</td>\n",
              "      <td>151.00000</td>\n",
              "      <td>227.00000</td>\n",
              "      <td>933.0000</td>\n",
              "    </tr>\n",
              "    <tr>\n",
              "      <th>TLTimeLast</th>\n",
              "      <td>3000.0</td>\n",
              "      <td>11.873667</td>\n",
              "      <td>16.321412</td>\n",
              "      <td>0.0</td>\n",
              "      <td>4.0000</td>\n",
              "      <td>7.00000</td>\n",
              "      <td>13.00000</td>\n",
              "      <td>342.0000</td>\n",
              "    </tr>\n",
              "    <tr>\n",
              "      <th>TLCnt03</th>\n",
              "      <td>3000.0</td>\n",
              "      <td>0.275000</td>\n",
              "      <td>0.582084</td>\n",
              "      <td>0.0</td>\n",
              "      <td>0.0000</td>\n",
              "      <td>0.00000</td>\n",
              "      <td>0.00000</td>\n",
              "      <td>7.0000</td>\n",
              "    </tr>\n",
              "    <tr>\n",
              "      <th>TLCnt12</th>\n",
              "      <td>3000.0</td>\n",
              "      <td>1.821333</td>\n",
              "      <td>1.925265</td>\n",
              "      <td>0.0</td>\n",
              "      <td>0.0000</td>\n",
              "      <td>1.00000</td>\n",
              "      <td>3.00000</td>\n",
              "      <td>15.0000</td>\n",
              "    </tr>\n",
              "    <tr>\n",
              "      <th>TLCnt24</th>\n",
              "      <td>3000.0</td>\n",
              "      <td>3.882333</td>\n",
              "      <td>3.396714</td>\n",
              "      <td>0.0</td>\n",
              "      <td>1.0000</td>\n",
              "      <td>3.00000</td>\n",
              "      <td>6.00000</td>\n",
              "      <td>28.0000</td>\n",
              "    </tr>\n",
              "    <tr>\n",
              "      <th>TLCnt</th>\n",
              "      <td>2997.0</td>\n",
              "      <td>7.879546</td>\n",
              "      <td>5.421595</td>\n",
              "      <td>0.0</td>\n",
              "      <td>4.0000</td>\n",
              "      <td>7.00000</td>\n",
              "      <td>11.00000</td>\n",
              "      <td>40.0000</td>\n",
              "    </tr>\n",
              "    <tr>\n",
              "      <th>TLSum</th>\n",
              "      <td>2960.0</td>\n",
              "      <td>20151.095608</td>\n",
              "      <td>19682.086262</td>\n",
              "      <td>0.0</td>\n",
              "      <td>5699.7500</td>\n",
              "      <td>15546.50000</td>\n",
              "      <td>28303.25000</td>\n",
              "      <td>210612.0000</td>\n",
              "    </tr>\n",
              "    <tr>\n",
              "      <th>TLMaxSum</th>\n",
              "      <td>2960.0</td>\n",
              "      <td>31205.900676</td>\n",
              "      <td>29092.908099</td>\n",
              "      <td>0.0</td>\n",
              "      <td>10236.0000</td>\n",
              "      <td>24188.50000</td>\n",
              "      <td>44756.25000</td>\n",
              "      <td>271036.0000</td>\n",
              "    </tr>\n",
              "    <tr>\n",
              "      <th>TLSatCnt</th>\n",
              "      <td>2996.0</td>\n",
              "      <td>13.511682</td>\n",
              "      <td>8.931769</td>\n",
              "      <td>0.0</td>\n",
              "      <td>6.0000</td>\n",
              "      <td>12.00000</td>\n",
              "      <td>19.00000</td>\n",
              "      <td>57.0000</td>\n",
              "    </tr>\n",
              "    <tr>\n",
              "      <th>TLDel60Cnt</th>\n",
              "      <td>3000.0</td>\n",
              "      <td>1.522000</td>\n",
              "      <td>2.809653</td>\n",
              "      <td>0.0</td>\n",
              "      <td>0.0000</td>\n",
              "      <td>0.00000</td>\n",
              "      <td>2.00000</td>\n",
              "      <td>38.0000</td>\n",
              "    </tr>\n",
              "    <tr>\n",
              "      <th>TLBadCnt24</th>\n",
              "      <td>3000.0</td>\n",
              "      <td>0.567000</td>\n",
              "      <td>1.324423</td>\n",
              "      <td>0.0</td>\n",
              "      <td>0.0000</td>\n",
              "      <td>0.00000</td>\n",
              "      <td>1.00000</td>\n",
              "      <td>16.0000</td>\n",
              "    </tr>\n",
              "    <tr>\n",
              "      <th>TL75UtilCnt</th>\n",
              "      <td>2901.0</td>\n",
              "      <td>3.121682</td>\n",
              "      <td>2.605435</td>\n",
              "      <td>0.0</td>\n",
              "      <td>1.0000</td>\n",
              "      <td>3.00000</td>\n",
              "      <td>4.00000</td>\n",
              "      <td>20.0000</td>\n",
              "    </tr>\n",
              "    <tr>\n",
              "      <th>TL50UtilCnt</th>\n",
              "      <td>2901.0</td>\n",
              "      <td>4.077904</td>\n",
              "      <td>3.108076</td>\n",
              "      <td>0.0</td>\n",
              "      <td>2.0000</td>\n",
              "      <td>3.00000</td>\n",
              "      <td>6.00000</td>\n",
              "      <td>23.0000</td>\n",
              "    </tr>\n",
              "    <tr>\n",
              "      <th>TLBalHCPct</th>\n",
              "      <td>2959.0</td>\n",
              "      <td>0.648178</td>\n",
              "      <td>0.266486</td>\n",
              "      <td>0.0</td>\n",
              "      <td>0.5011</td>\n",
              "      <td>0.69550</td>\n",
              "      <td>0.84065</td>\n",
              "      <td>3.3613</td>\n",
              "    </tr>\n",
              "    <tr>\n",
              "      <th>TLSatPct</th>\n",
              "      <td>2996.0</td>\n",
              "      <td>0.518331</td>\n",
              "      <td>0.234759</td>\n",
              "      <td>0.0</td>\n",
              "      <td>0.3529</td>\n",
              "      <td>0.52705</td>\n",
              "      <td>0.68180</td>\n",
              "      <td>1.0000</td>\n",
              "    </tr>\n",
              "    <tr>\n",
              "      <th>TLDel3060Cnt24</th>\n",
              "      <td>3000.0</td>\n",
              "      <td>0.726000</td>\n",
              "      <td>1.163633</td>\n",
              "      <td>0.0</td>\n",
              "      <td>0.0000</td>\n",
              "      <td>0.00000</td>\n",
              "      <td>2.00000</td>\n",
              "      <td>8.0000</td>\n",
              "    </tr>\n",
              "    <tr>\n",
              "      <th>TLDel90Cnt24</th>\n",
              "      <td>3000.0</td>\n",
              "      <td>0.814667</td>\n",
              "      <td>1.609508</td>\n",
              "      <td>0.0</td>\n",
              "      <td>0.0000</td>\n",
              "      <td>0.00000</td>\n",
              "      <td>1.00000</td>\n",
              "      <td>19.0000</td>\n",
              "    </tr>\n",
              "    <tr>\n",
              "      <th>TLDel60CntAll</th>\n",
              "      <td>3000.0</td>\n",
              "      <td>2.522000</td>\n",
              "      <td>3.407255</td>\n",
              "      <td>0.0</td>\n",
              "      <td>0.0000</td>\n",
              "      <td>1.00000</td>\n",
              "      <td>4.00000</td>\n",
              "      <td>45.0000</td>\n",
              "    </tr>\n",
              "    <tr>\n",
              "      <th>TLOpenPct</th>\n",
              "      <td>2997.0</td>\n",
              "      <td>0.496168</td>\n",
              "      <td>0.206722</td>\n",
              "      <td>0.0</td>\n",
              "      <td>0.3448</td>\n",
              "      <td>0.50000</td>\n",
              "      <td>0.62500</td>\n",
              "      <td>1.0000</td>\n",
              "    </tr>\n",
              "    <tr>\n",
              "      <th>TLBadDerogCnt</th>\n",
              "      <td>3000.0</td>\n",
              "      <td>1.409000</td>\n",
              "      <td>2.460434</td>\n",
              "      <td>0.0</td>\n",
              "      <td>0.0000</td>\n",
              "      <td>0.00000</td>\n",
              "      <td>2.00000</td>\n",
              "      <td>47.0000</td>\n",
              "    </tr>\n",
              "    <tr>\n",
              "      <th>TLDel60Cnt24</th>\n",
              "      <td>3000.0</td>\n",
              "      <td>1.068333</td>\n",
              "      <td>1.806124</td>\n",
              "      <td>0.0</td>\n",
              "      <td>0.0000</td>\n",
              "      <td>0.00000</td>\n",
              "      <td>1.00000</td>\n",
              "      <td>20.0000</td>\n",
              "    </tr>\n",
              "    <tr>\n",
              "      <th>TLOpen24Pct</th>\n",
              "      <td>2997.0</td>\n",
              "      <td>0.564219</td>\n",
              "      <td>0.480105</td>\n",
              "      <td>0.0</td>\n",
              "      <td>0.2500</td>\n",
              "      <td>0.50000</td>\n",
              "      <td>0.80000</td>\n",
              "      <td>6.0000</td>\n",
              "    </tr>\n",
              "  </tbody>\n",
              "</table>\n",
              "</div>\n",
              "      <button class=\"colab-df-convert\" onclick=\"convertToInteractive('df-f0c9d2b5-c417-481b-a17d-b9cfb27b1397')\"\n",
              "              title=\"Convert this dataframe to an interactive table.\"\n",
              "              style=\"display:none;\">\n",
              "        \n",
              "  <svg xmlns=\"http://www.w3.org/2000/svg\" height=\"24px\"viewBox=\"0 0 24 24\"\n",
              "       width=\"24px\">\n",
              "    <path d=\"M0 0h24v24H0V0z\" fill=\"none\"/>\n",
              "    <path d=\"M18.56 5.44l.94 2.06.94-2.06 2.06-.94-2.06-.94-.94-2.06-.94 2.06-2.06.94zm-11 1L8.5 8.5l.94-2.06 2.06-.94-2.06-.94L8.5 2.5l-.94 2.06-2.06.94zm10 10l.94 2.06.94-2.06 2.06-.94-2.06-.94-.94-2.06-.94 2.06-2.06.94z\"/><path d=\"M17.41 7.96l-1.37-1.37c-.4-.4-.92-.59-1.43-.59-.52 0-1.04.2-1.43.59L10.3 9.45l-7.72 7.72c-.78.78-.78 2.05 0 2.83L4 21.41c.39.39.9.59 1.41.59.51 0 1.02-.2 1.41-.59l7.78-7.78 2.81-2.81c.8-.78.8-2.07 0-2.86zM5.41 20L4 18.59l7.72-7.72 1.47 1.35L5.41 20z\"/>\n",
              "  </svg>\n",
              "      </button>\n",
              "      \n",
              "  <style>\n",
              "    .colab-df-container {\n",
              "      display:flex;\n",
              "      flex-wrap:wrap;\n",
              "      gap: 12px;\n",
              "    }\n",
              "\n",
              "    .colab-df-convert {\n",
              "      background-color: #E8F0FE;\n",
              "      border: none;\n",
              "      border-radius: 50%;\n",
              "      cursor: pointer;\n",
              "      display: none;\n",
              "      fill: #1967D2;\n",
              "      height: 32px;\n",
              "      padding: 0 0 0 0;\n",
              "      width: 32px;\n",
              "    }\n",
              "\n",
              "    .colab-df-convert:hover {\n",
              "      background-color: #E2EBFA;\n",
              "      box-shadow: 0px 1px 2px rgba(60, 64, 67, 0.3), 0px 1px 3px 1px rgba(60, 64, 67, 0.15);\n",
              "      fill: #174EA6;\n",
              "    }\n",
              "\n",
              "    [theme=dark] .colab-df-convert {\n",
              "      background-color: #3B4455;\n",
              "      fill: #D2E3FC;\n",
              "    }\n",
              "\n",
              "    [theme=dark] .colab-df-convert:hover {\n",
              "      background-color: #434B5C;\n",
              "      box-shadow: 0px 1px 3px 1px rgba(0, 0, 0, 0.15);\n",
              "      filter: drop-shadow(0px 1px 2px rgba(0, 0, 0, 0.3));\n",
              "      fill: #FFFFFF;\n",
              "    }\n",
              "  </style>\n",
              "\n",
              "      <script>\n",
              "        const buttonEl =\n",
              "          document.querySelector('#df-f0c9d2b5-c417-481b-a17d-b9cfb27b1397 button.colab-df-convert');\n",
              "        buttonEl.style.display =\n",
              "          google.colab.kernel.accessAllowed ? 'block' : 'none';\n",
              "\n",
              "        async function convertToInteractive(key) {\n",
              "          const element = document.querySelector('#df-f0c9d2b5-c417-481b-a17d-b9cfb27b1397');\n",
              "          const dataTable =\n",
              "            await google.colab.kernel.invokeFunction('convertToInteractive',\n",
              "                                                     [key], {});\n",
              "          if (!dataTable) return;\n",
              "\n",
              "          const docLinkHtml = 'Like what you see? Visit the ' +\n",
              "            '<a target=\"_blank\" href=https://colab.research.google.com/notebooks/data_table.ipynb>data table notebook</a>'\n",
              "            + ' to learn more about interactive tables.';\n",
              "          element.innerHTML = '';\n",
              "          dataTable['output_type'] = 'display_data';\n",
              "          await google.colab.output.renderOutput(dataTable, element);\n",
              "          const docLink = document.createElement('div');\n",
              "          docLink.innerHTML = docLinkHtml;\n",
              "          element.appendChild(docLink);\n",
              "        }\n",
              "      </script>\n",
              "    </div>\n",
              "  </div>\n",
              "  "
            ]
          },
          "metadata": {},
          "execution_count": 35
        }
      ]
    },
    {
      "cell_type": "code",
      "source": [
        "df.info()"
      ],
      "metadata": {
        "colab": {
          "base_uri": "https://localhost:8080/"
        },
        "id": "apgm2txanFIC",
        "outputId": "81df2c52-2a7d-48b8-e306-c817aabd400e"
      },
      "execution_count": 36,
      "outputs": [
        {
          "output_type": "stream",
          "name": "stdout",
          "text": [
            "<class 'pandas.core.frame.DataFrame'>\n",
            "RangeIndex: 3000 entries, 0 to 2999\n",
            "Data columns (total 30 columns):\n",
            " #   Column           Non-Null Count  Dtype  \n",
            "---  ------           --------------  -----  \n",
            " 0   TARGET           3000 non-null   float64\n",
            " 1   ID               3000 non-null   int64  \n",
            " 2   DerogCnt         3000 non-null   float64\n",
            " 3   CollectCnt       3000 non-null   float64\n",
            " 4   BanruptcyInd     3000 non-null   float64\n",
            " 5   InqCnt06         3000 non-null   float64\n",
            " 6   InqTimeLast      2812 non-null   float64\n",
            " 7   InqFinanceCnt24  3000 non-null   float64\n",
            " 8   TLTimeFirst      3000 non-null   float64\n",
            " 9   TLTimeLast       3000 non-null   float64\n",
            " 10  TLCnt03          3000 non-null   float64\n",
            " 11  TLCnt12          3000 non-null   float64\n",
            " 12  TLCnt24          3000 non-null   float64\n",
            " 13  TLCnt            2997 non-null   float64\n",
            " 14  TLSum            2960 non-null   float64\n",
            " 15  TLMaxSum         2960 non-null   float64\n",
            " 16  TLSatCnt         2996 non-null   float64\n",
            " 17  TLDel60Cnt       3000 non-null   float64\n",
            " 18  TLBadCnt24       3000 non-null   float64\n",
            " 19  TL75UtilCnt      2901 non-null   float64\n",
            " 20  TL50UtilCnt      2901 non-null   float64\n",
            " 21  TLBalHCPct       2959 non-null   float64\n",
            " 22  TLSatPct         2996 non-null   float64\n",
            " 23  TLDel3060Cnt24   3000 non-null   float64\n",
            " 24  TLDel90Cnt24     3000 non-null   float64\n",
            " 25  TLDel60CntAll    3000 non-null   float64\n",
            " 26  TLOpenPct        2997 non-null   float64\n",
            " 27  TLBadDerogCnt    3000 non-null   float64\n",
            " 28  TLDel60Cnt24     3000 non-null   float64\n",
            " 29  TLOpen24Pct      2997 non-null   float64\n",
            "dtypes: float64(29), int64(1)\n",
            "memory usage: 703.2 KB\n"
          ]
        }
      ]
    },
    {
      "cell_type": "markdown",
      "source": [
        "# Feature Engineering"
      ],
      "metadata": {
        "id": "TQtnR3S7s6Vv"
      }
    },
    {
      "cell_type": "code",
      "source": [
        "#dropping customer ID column from the dataset\n",
        "df=df.drop('ID',axis=1)\n",
        "df.shape"
      ],
      "metadata": {
        "colab": {
          "base_uri": "https://localhost:8080/"
        },
        "id": "2ctrN-wal27b",
        "outputId": "26fa8339-4ce2-440f-e681-312557ac206e"
      },
      "execution_count": 37,
      "outputs": [
        {
          "output_type": "execute_result",
          "data": {
            "text/plain": [
              "(3000, 29)"
            ]
          },
          "metadata": {},
          "execution_count": 37
        }
      ]
    },
    {
      "cell_type": "code",
      "source": [
        "# explore missing values\n",
        "df.isna().sum()"
      ],
      "metadata": {
        "colab": {
          "base_uri": "https://localhost:8080/"
        },
        "id": "fXTBjSM1mSgU",
        "outputId": "daf4efc0-9329-49da-f932-7f172702c8d2"
      },
      "execution_count": 38,
      "outputs": [
        {
          "output_type": "execute_result",
          "data": {
            "text/plain": [
              "TARGET               0\n",
              "DerogCnt             0\n",
              "CollectCnt           0\n",
              "BanruptcyInd         0\n",
              "InqCnt06             0\n",
              "InqTimeLast        188\n",
              "InqFinanceCnt24      0\n",
              "TLTimeFirst          0\n",
              "TLTimeLast           0\n",
              "TLCnt03              0\n",
              "TLCnt12              0\n",
              "TLCnt24              0\n",
              "TLCnt                3\n",
              "TLSum               40\n",
              "TLMaxSum            40\n",
              "TLSatCnt             4\n",
              "TLDel60Cnt           0\n",
              "TLBadCnt24           0\n",
              "TL75UtilCnt         99\n",
              "TL50UtilCnt         99\n",
              "TLBalHCPct          41\n",
              "TLSatPct             4\n",
              "TLDel3060Cnt24       0\n",
              "TLDel90Cnt24         0\n",
              "TLDel60CntAll        0\n",
              "TLOpenPct            3\n",
              "TLBadDerogCnt        0\n",
              "TLDel60Cnt24         0\n",
              "TLOpen24Pct          3\n",
              "dtype: int64"
            ]
          },
          "metadata": {},
          "execution_count": 38
        }
      ]
    },
    {
      "cell_type": "code",
      "source": [
        "# filling missing values with mean\n",
        "df=df.fillna(df.mean())"
      ],
      "metadata": {
        "id": "xb85lYaPmTF-"
      },
      "execution_count": 39,
      "outputs": []
    },
    {
      "cell_type": "code",
      "source": [
        "# explore missing values post missing value fix\n",
        "df.isna().sum()"
      ],
      "metadata": {
        "colab": {
          "base_uri": "https://localhost:8080/"
        },
        "id": "-V3zpTlPmiFP",
        "outputId": "0eea45de-333c-4e1a-980c-1539a43dbf27"
      },
      "execution_count": 40,
      "outputs": [
        {
          "output_type": "execute_result",
          "data": {
            "text/plain": [
              "TARGET             0\n",
              "DerogCnt           0\n",
              "CollectCnt         0\n",
              "BanruptcyInd       0\n",
              "InqCnt06           0\n",
              "InqTimeLast        0\n",
              "InqFinanceCnt24    0\n",
              "TLTimeFirst        0\n",
              "TLTimeLast         0\n",
              "TLCnt03            0\n",
              "TLCnt12            0\n",
              "TLCnt24            0\n",
              "TLCnt              0\n",
              "TLSum              0\n",
              "TLMaxSum           0\n",
              "TLSatCnt           0\n",
              "TLDel60Cnt         0\n",
              "TLBadCnt24         0\n",
              "TL75UtilCnt        0\n",
              "TL50UtilCnt        0\n",
              "TLBalHCPct         0\n",
              "TLSatPct           0\n",
              "TLDel3060Cnt24     0\n",
              "TLDel90Cnt24       0\n",
              "TLDel60CntAll      0\n",
              "TLOpenPct          0\n",
              "TLBadDerogCnt      0\n",
              "TLDel60Cnt24       0\n",
              "TLOpen24Pct        0\n",
              "dtype: int64"
            ]
          },
          "metadata": {},
          "execution_count": 40
        }
      ]
    },
    {
      "cell_type": "code",
      "source": [
        "# count of good loans (0) and bad loans (1)\n",
        "df['TARGET'].value_counts()"
      ],
      "metadata": {
        "colab": {
          "base_uri": "https://localhost:8080/"
        },
        "id": "5BLtBIk2mrRn",
        "outputId": "cfda1671-fd15-410f-8922-b1ff280f89ae"
      },
      "execution_count": 42,
      "outputs": [
        {
          "output_type": "execute_result",
          "data": {
            "text/plain": [
              "0.0    2500\n",
              "1.0     500\n",
              "Name: TARGET, dtype: int64"
            ]
          },
          "metadata": {},
          "execution_count": 42
        }
      ]
    },
    {
      "cell_type": "markdown",
      "source": [
        "dataset cukup imbalance mengingat jumlah good loan yaitu 2500 lebih tinggi daripada bad loan yang hanya berjumlah 500 data"
      ],
      "metadata": {
        "id": "dKQZ98k2pqZp"
      }
    },
    {
      "cell_type": "markdown",
      "source": [
        "# Splitting Dataset"
      ],
      "metadata": {
        "id": "svPVak6ttBpw"
      }
    },
    {
      "cell_type": "code",
      "source": [
        "y = df.iloc[:, 0].values\n",
        "X = df.iloc[:, 1:29].values"
      ],
      "metadata": {
        "id": "mkkPxTtnp_KT"
      },
      "execution_count": 45,
      "outputs": []
    },
    {
      "cell_type": "code",
      "source": [
        "# splitting dataset into training and test (in ratio 80:20)\n",
        "\n",
        "X_train, X_test, y_train, y_test = train_test_split(X, y, \n",
        "                                                    test_size=0.2, \n",
        "                                                    random_state=0,\n",
        "                                                    stratify=y)"
      ],
      "metadata": {
        "id": "7k--Acy_qG4g"
      },
      "execution_count": 46,
      "outputs": []
    },
    {
      "cell_type": "markdown",
      "source": [
        "# Standardization"
      ],
      "metadata": {
        "id": "OuPgB2lFtNHx"
      }
    },
    {
      "cell_type": "code",
      "source": [
        "sc = StandardScaler()\n",
        "X_train = sc.fit_transform(X_train)\n",
        "X_test = sc.transform(X_test)"
      ],
      "metadata": {
        "id": "5XmfQlgnqIRw"
      },
      "execution_count": 47,
      "outputs": []
    },
    {
      "cell_type": "code",
      "source": [
        "# Exporting Normalisation Coefficients for later use in prediction\n",
        "import joblib\n",
        "joblib.dump(sc, 'scaler')"
      ],
      "metadata": {
        "colab": {
          "base_uri": "https://localhost:8080/"
        },
        "id": "jiVUwhnoq8dY",
        "outputId": "e8c46066-2a24-4f81-d640-255c2c678b4e"
      },
      "execution_count": 48,
      "outputs": [
        {
          "output_type": "execute_result",
          "data": {
            "text/plain": [
              "['scaler']"
            ]
          },
          "metadata": {},
          "execution_count": 48
        }
      ]
    },
    {
      "cell_type": "markdown",
      "source": [
        "# Model"
      ],
      "metadata": {
        "id": "4RojiXizqnBY"
      }
    },
    {
      "cell_type": "code",
      "source": [
        "classifier =  LogisticRegression()\n",
        "classifier.fit(X_train, y_train)\n",
        "y_pred = classifier.predict(X_test)"
      ],
      "metadata": {
        "id": "jWr9HcqtqmmQ"
      },
      "execution_count": 49,
      "outputs": []
    },
    {
      "cell_type": "code",
      "source": [
        "# Exporting Logistic Regression Classifier for later use in prediction\n",
        "\n",
        "# import joblib\n",
        "joblib.dump(classifier, 'model')"
      ],
      "metadata": {
        "colab": {
          "base_uri": "https://localhost:8080/"
        },
        "id": "RK6dZUM0raOI",
        "outputId": "49596bec-707a-4b91-c24d-705d10a0ea0e"
      },
      "execution_count": 50,
      "outputs": [
        {
          "output_type": "execute_result",
          "data": {
            "text/plain": [
              "['model']"
            ]
          },
          "metadata": {},
          "execution_count": 50
        }
      ]
    },
    {
      "cell_type": "markdown",
      "source": [
        "# Evaluation"
      ],
      "metadata": {
        "id": "NoexZl3krkiA"
      }
    },
    {
      "cell_type": "code",
      "source": [
        "print(confusion_matrix(y_test,y_pred))"
      ],
      "metadata": {
        "colab": {
          "base_uri": "https://localhost:8080/"
        },
        "id": "Bygh4uGnrmZg",
        "outputId": "320d31d0-f5a6-4b23-cfa6-e857a8c1de28"
      },
      "execution_count": 51,
      "outputs": [
        {
          "output_type": "stream",
          "name": "stdout",
          "text": [
            "[[487  13]\n",
            " [ 87  13]]\n"
          ]
        }
      ]
    },
    {
      "cell_type": "code",
      "source": [
        "print(accuracy_score(y_test, y_pred))"
      ],
      "metadata": {
        "colab": {
          "base_uri": "https://localhost:8080/"
        },
        "id": "jPq9ibLxroUI",
        "outputId": "3e7bf9f3-056f-4459-f203-57221bfee375"
      },
      "execution_count": 52,
      "outputs": [
        {
          "output_type": "stream",
          "name": "stdout",
          "text": [
            "0.8333333333333334\n"
          ]
        }
      ]
    },
    {
      "cell_type": "markdown",
      "source": [
        "# Prediction"
      ],
      "metadata": {
        "id": "4wt14mJGrrHP"
      }
    },
    {
      "cell_type": "code",
      "source": [
        "predictions = classifier.predict_proba(X_test)\n",
        "predictions"
      ],
      "metadata": {
        "colab": {
          "base_uri": "https://localhost:8080/"
        },
        "id": "Pv2oT1IBrsb_",
        "outputId": "231d7f73-8459-4aa3-d64d-bc5edeaadaba"
      },
      "execution_count": 53,
      "outputs": [
        {
          "output_type": "execute_result",
          "data": {
            "text/plain": [
              "array([[0.61644691, 0.38355309],\n",
              "       [0.9885656 , 0.0114344 ],\n",
              "       [0.87069686, 0.12930314],\n",
              "       ...,\n",
              "       [0.94450568, 0.05549432],\n",
              "       [0.46756903, 0.53243097],\n",
              "       [0.94014209, 0.05985791]])"
            ]
          },
          "metadata": {},
          "execution_count": 53
        }
      ]
    },
    {
      "cell_type": "code",
      "source": [
        "# writing model output file\n",
        "\n",
        "df_prediction_prob = pd.DataFrame(predictions, columns = ['prob_good', 'prob_bad'])\n",
        "df_prediction_target = pd.DataFrame(classifier.predict(X_test), columns = ['predicted_TARGET'])\n",
        "df_test_dataset = pd.DataFrame(y_test,columns= ['Actual Outcome'])\n",
        "\n",
        "dfx=pd.concat([df_test_dataset, df_prediction_prob, df_prediction_target], axis=1)\n",
        "\n",
        "dfx.to_csv(\"Model_Prediction.xlsx\", sep=',', encoding='UTF-8')\n",
        "\n",
        "dfx.head()"
      ],
      "metadata": {
        "colab": {
          "base_uri": "https://localhost:8080/",
          "height": 206
        },
        "id": "4zPkiDlErvmo",
        "outputId": "0131beb3-7186-43ab-9f40-a7360fff0611"
      },
      "execution_count": 54,
      "outputs": [
        {
          "output_type": "execute_result",
          "data": {
            "text/plain": [
              "   Actual Outcome  prob_good  prob_bad  predicted_TARGET\n",
              "0             1.0   0.616447  0.383553               0.0\n",
              "1             0.0   0.988566  0.011434               0.0\n",
              "2             1.0   0.870697  0.129303               0.0\n",
              "3             0.0   0.953963  0.046037               0.0\n",
              "4             1.0   0.726633  0.273367               0.0"
            ],
            "text/html": [
              "\n",
              "  <div id=\"df-57fb9e9f-d20e-4eda-a550-4c0d7a576349\">\n",
              "    <div class=\"colab-df-container\">\n",
              "      <div>\n",
              "<style scoped>\n",
              "    .dataframe tbody tr th:only-of-type {\n",
              "        vertical-align: middle;\n",
              "    }\n",
              "\n",
              "    .dataframe tbody tr th {\n",
              "        vertical-align: top;\n",
              "    }\n",
              "\n",
              "    .dataframe thead th {\n",
              "        text-align: right;\n",
              "    }\n",
              "</style>\n",
              "<table border=\"1\" class=\"dataframe\">\n",
              "  <thead>\n",
              "    <tr style=\"text-align: right;\">\n",
              "      <th></th>\n",
              "      <th>Actual Outcome</th>\n",
              "      <th>prob_good</th>\n",
              "      <th>prob_bad</th>\n",
              "      <th>predicted_TARGET</th>\n",
              "    </tr>\n",
              "  </thead>\n",
              "  <tbody>\n",
              "    <tr>\n",
              "      <th>0</th>\n",
              "      <td>1.0</td>\n",
              "      <td>0.616447</td>\n",
              "      <td>0.383553</td>\n",
              "      <td>0.0</td>\n",
              "    </tr>\n",
              "    <tr>\n",
              "      <th>1</th>\n",
              "      <td>0.0</td>\n",
              "      <td>0.988566</td>\n",
              "      <td>0.011434</td>\n",
              "      <td>0.0</td>\n",
              "    </tr>\n",
              "    <tr>\n",
              "      <th>2</th>\n",
              "      <td>1.0</td>\n",
              "      <td>0.870697</td>\n",
              "      <td>0.129303</td>\n",
              "      <td>0.0</td>\n",
              "    </tr>\n",
              "    <tr>\n",
              "      <th>3</th>\n",
              "      <td>0.0</td>\n",
              "      <td>0.953963</td>\n",
              "      <td>0.046037</td>\n",
              "      <td>0.0</td>\n",
              "    </tr>\n",
              "    <tr>\n",
              "      <th>4</th>\n",
              "      <td>1.0</td>\n",
              "      <td>0.726633</td>\n",
              "      <td>0.273367</td>\n",
              "      <td>0.0</td>\n",
              "    </tr>\n",
              "  </tbody>\n",
              "</table>\n",
              "</div>\n",
              "      <button class=\"colab-df-convert\" onclick=\"convertToInteractive('df-57fb9e9f-d20e-4eda-a550-4c0d7a576349')\"\n",
              "              title=\"Convert this dataframe to an interactive table.\"\n",
              "              style=\"display:none;\">\n",
              "        \n",
              "  <svg xmlns=\"http://www.w3.org/2000/svg\" height=\"24px\"viewBox=\"0 0 24 24\"\n",
              "       width=\"24px\">\n",
              "    <path d=\"M0 0h24v24H0V0z\" fill=\"none\"/>\n",
              "    <path d=\"M18.56 5.44l.94 2.06.94-2.06 2.06-.94-2.06-.94-.94-2.06-.94 2.06-2.06.94zm-11 1L8.5 8.5l.94-2.06 2.06-.94-2.06-.94L8.5 2.5l-.94 2.06-2.06.94zm10 10l.94 2.06.94-2.06 2.06-.94-2.06-.94-.94-2.06-.94 2.06-2.06.94z\"/><path d=\"M17.41 7.96l-1.37-1.37c-.4-.4-.92-.59-1.43-.59-.52 0-1.04.2-1.43.59L10.3 9.45l-7.72 7.72c-.78.78-.78 2.05 0 2.83L4 21.41c.39.39.9.59 1.41.59.51 0 1.02-.2 1.41-.59l7.78-7.78 2.81-2.81c.8-.78.8-2.07 0-2.86zM5.41 20L4 18.59l7.72-7.72 1.47 1.35L5.41 20z\"/>\n",
              "  </svg>\n",
              "      </button>\n",
              "      \n",
              "  <style>\n",
              "    .colab-df-container {\n",
              "      display:flex;\n",
              "      flex-wrap:wrap;\n",
              "      gap: 12px;\n",
              "    }\n",
              "\n",
              "    .colab-df-convert {\n",
              "      background-color: #E8F0FE;\n",
              "      border: none;\n",
              "      border-radius: 50%;\n",
              "      cursor: pointer;\n",
              "      display: none;\n",
              "      fill: #1967D2;\n",
              "      height: 32px;\n",
              "      padding: 0 0 0 0;\n",
              "      width: 32px;\n",
              "    }\n",
              "\n",
              "    .colab-df-convert:hover {\n",
              "      background-color: #E2EBFA;\n",
              "      box-shadow: 0px 1px 2px rgba(60, 64, 67, 0.3), 0px 1px 3px 1px rgba(60, 64, 67, 0.15);\n",
              "      fill: #174EA6;\n",
              "    }\n",
              "\n",
              "    [theme=dark] .colab-df-convert {\n",
              "      background-color: #3B4455;\n",
              "      fill: #D2E3FC;\n",
              "    }\n",
              "\n",
              "    [theme=dark] .colab-df-convert:hover {\n",
              "      background-color: #434B5C;\n",
              "      box-shadow: 0px 1px 3px 1px rgba(0, 0, 0, 0.15);\n",
              "      filter: drop-shadow(0px 1px 2px rgba(0, 0, 0, 0.3));\n",
              "      fill: #FFFFFF;\n",
              "    }\n",
              "  </style>\n",
              "\n",
              "      <script>\n",
              "        const buttonEl =\n",
              "          document.querySelector('#df-57fb9e9f-d20e-4eda-a550-4c0d7a576349 button.colab-df-convert');\n",
              "        buttonEl.style.display =\n",
              "          google.colab.kernel.accessAllowed ? 'block' : 'none';\n",
              "\n",
              "        async function convertToInteractive(key) {\n",
              "          const element = document.querySelector('#df-57fb9e9f-d20e-4eda-a550-4c0d7a576349');\n",
              "          const dataTable =\n",
              "            await google.colab.kernel.invokeFunction('convertToInteractive',\n",
              "                                                     [key], {});\n",
              "          if (!dataTable) return;\n",
              "\n",
              "          const docLinkHtml = 'Like what you see? Visit the ' +\n",
              "            '<a target=\"_blank\" href=https://colab.research.google.com/notebooks/data_table.ipynb>data table notebook</a>'\n",
              "            + ' to learn more about interactive tables.';\n",
              "          element.innerHTML = '';\n",
              "          dataTable['output_type'] = 'display_data';\n",
              "          await google.colab.output.renderOutput(dataTable, element);\n",
              "          const docLink = document.createElement('div');\n",
              "          docLink.innerHTML = docLinkHtml;\n",
              "          element.appendChild(docLink);\n",
              "        }\n",
              "      </script>\n",
              "    </div>\n",
              "  </div>\n",
              "  "
            ]
          },
          "metadata": {},
          "execution_count": 54
        }
      ]
    }
  ]
}